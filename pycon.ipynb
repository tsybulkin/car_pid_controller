{
 "metadata": {
  "name": "",
  "signature": "sha256:b930952dc6c167ecbbb201720dca6a30af048e3726b58289c08ac880658b34f5"
 },
 "nbformat": 3,
 "nbformat_minor": 0,
 "worksheets": [
  {
   "cells": [
    {
     "cell_type": "code",
     "collapsed": false,
     "input": [
      "import numpy as np\n",
      "\n",
      "def generate_road():\n",
      "    Y = range(0,60,1)\n",
      "    X = [ 5*np.cos(y/10.) for y in Y ]\n",
      "    return X,Y"
     ],
     "language": "python",
     "metadata": {},
     "outputs": [],
     "prompt_number": 66
    },
    {
     "cell_type": "code",
     "collapsed": false,
     "input": [
      "Kp = 1.\n",
      "Ki = 0.\n",
      "Kd = 1.\n",
      "    \n",
      "class Car():\n",
      "    def __init__(self,W=1.7, L=4.3, xy=np.array((6.5, 0)), th=np.pi/2, v=10):\n",
      "        self.W = W\n",
      "        self.L = L\n",
      "        self.xy = xy\n",
      "        self.th = th\n",
      "        self.v = v\n",
      "        self.dt = 0.1\n",
      "        self.err_i = 0.\n",
      "        self.err = 0\n",
      "        \n",
      "    def move(self,road):\n",
      "        X,Y = road\n",
      "        err = self.get_error(X,Y)\n",
      "        if err == None:\n",
      "            return False\n",
      "        \n",
      "        err_der = (err - self.err)/self.dt\n",
      "        self.err_i += err*self.dt\n",
      "        self.err = err\n",
      "        \n",
      "        err_tot = Kp*err + Kd*err_der + Ki*self.err_i\n",
      "        self.th += self.steer(err_tot)\n",
      "        \n",
      "        self.xy += self.v*np.array([np.cos(self.th),np.sin(self.th)])*self.dt\n",
      "        return True\n",
      "    \n",
      "    def steer(self,err):\n",
      "        Ks = 0.25\n",
      "        if err > 0: return min(0.1, Ks*err)\n",
      "        else: return max(-0.1, Ks*err)\n",
      "        \n",
      "    def get_error(self,X,Y):\n",
      "        lines = [(X[i],Y[i],X[i+1],Y[i+1]) for i in range(len(X)-1)]\n",
      "        x,y = self.xy\n",
      "        \n",
      "        for line in lines:\n",
      "            if line[1] <= y and line[3] >= y:\n",
      "                return (x-line[0]-1.5)*(line[3]-y)/(line[3]-line[1]) + (x-line[2]-1.5)*(y-line[1])/(line[3]-line[1])\n",
      "        \n",
      "    "
     ],
     "language": "python",
     "metadata": {},
     "outputs": [],
     "prompt_number": 115
    },
    {
     "cell_type": "code",
     "collapsed": false,
     "input": [
      "import matplotlib.pyplot as plt\n",
      "\n",
      "X,Y = road = generate_road()\n",
      "car = Car()\n",
      "Xc = [car.xy[0]]\n",
      "Yc = [car.xy[1]]\n",
      "\n",
      "while car.move(road):\n",
      "    Xc.append(car.xy[0])\n",
      "    Yc.append(car.xy[1])\n",
      "\n",
      "plt.plot(Xc,Yc,'r-o',[x-3. for x in X], Y, 'b-', X,Y,'b--',[x+3. for x in X], Y, 'b-')\n",
      "plt.axis('equal')\n",
      "plt.show()"
     ],
     "language": "python",
     "metadata": {},
     "outputs": [],
     "prompt_number": 116
    }
   ],
   "metadata": {}
  }
 ]
}